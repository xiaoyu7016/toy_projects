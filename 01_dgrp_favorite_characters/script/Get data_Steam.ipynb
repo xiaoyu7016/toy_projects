{
 "cells": [
  {
   "cell_type": "code",
   "execution_count": 1,
   "metadata": {
    "collapsed": true
   },
   "outputs": [],
   "source": [
    "import os\n",
    "import re\n",
    "import random\n",
    "import pandas as pd\n",
    "from bs4 import BeautifulSoup\n",
    "from selenium import webdriver\n",
    "# from selenium.common import exceptions\n",
    "import time"
   ]
  },
  {
   "cell_type": "code",
   "execution_count": 2,
   "metadata": {
    "collapsed": true
   },
   "outputs": [],
   "source": [
    "chrome_driver = \"../driver/chromedriver.exe\"\n",
    "link = \"https://steamcommunity.com/app/567640/discussions/3/1520386297703978107/\""
   ]
  },
  {
   "cell_type": "code",
   "execution_count": 5,
   "metadata": {
    "collapsed": true
   },
   "outputs": [],
   "source": [
    "next_page_button_id = \"commentthread_ForumTopic_103582791459514491_1458455461496305158_1520386297703978107_pagebtn_next\""
   ]
  },
  {
   "cell_type": "code",
   "execution_count": 6,
   "metadata": {
    "collapsed": false,
    "scrolled": true
   },
   "outputs": [
    {
     "name": "stdout",
     "output_type": "stream",
     "text": [
      "1 pages saved.\n",
      "2 pages saved.\n",
      "3 pages saved.\n",
      "4 pages saved.\n",
      "5 pages saved.\n",
      "6 pages saved.\n",
      "7 pages saved.\n",
      "8 pages saved.\n",
      "9 pages saved.\n",
      "10 pages saved.\n",
      "11 pages saved.\n",
      "Wall time: 1min 47s\n"
     ]
    }
   ],
   "source": [
    "%%time\n",
    "driver = webdriver.Chrome(chrome_driver)\n",
    "driver.get(link)\n",
    "\n",
    "pages = {}\n",
    "page_num = 0\n",
    "pages_remaining = True\n",
    "while pages_remaining:\n",
    "\n",
    "    # Wait 5-15 secs\n",
    "    time.sleep(random.randrange(5,15))\n",
    "\n",
    "    # Save sources\n",
    "    pages[page_num] = driver.page_source\n",
    "    page_num += 1\n",
    "    print(page_num,\"pages saved.\")\n",
    "\n",
    "    # Next page\n",
    "    driver.find_element_by_id(next_page_button_id).click()\n",
    "    \n",
    "    # Check if next page exists. \n",
    "    # This button is always visible and clickable; can only use href value to determine last page\n",
    "    pages_remaining = (re.search('javascript:void\\(0\\);', driver.find_element_by_id(next_page_button_id).get_attribute(\"href\")) is None)"
   ]
  },
  {
   "cell_type": "code",
   "execution_count": 7,
   "metadata": {
    "collapsed": false
   },
   "outputs": [],
   "source": [
    "# Parse out comment ID and contents\n",
    "all_ids = []\n",
    "all_comments = []\n",
    "for k in pages:\n",
    "    soup = BeautifulSoup(pages[k],'html.parser')\n",
    "    \n",
    "    page_k_ids = soup.findAll(\"div\",{\"class\":\"forum_comment_permlink\"})\n",
    "    page_k_ids = [re.sub(\"#\",\"\", id_block.text.strip()) for id_block in page_k_ids]\n",
    "    all_ids = all_ids + page_k_ids\n",
    "    \n",
    "    page_k_comments = soup.findAll(\"div\",{\"class\":\"commentthread_comment_text\"})\n",
    "    all_comments = all_comments + page_k_comments\n",
    "\n",
    "comments_dict = dict(zip(all_ids, all_comments))"
   ]
  },
  {
   "cell_type": "code",
   "execution_count": 8,
   "metadata": {
    "collapsed": false
   },
   "outputs": [],
   "source": [
    "# Handle nested quotes\n",
    "comments_no_quote_dict = {}\n",
    "comments_quotes = {}  # keep track of it. Might wanna do something later.\n",
    "\n",
    "for k in comments_dict:\n",
    "    # .find() will get the first quoteblock that nests all the previous qoutes inside\n",
    "    if comments_dict[k].find(\"blockquote\") is None:\n",
    "        comments_no_quote_dict[int(k)] = comments_dict[k].text.strip()\n",
    "    else:\n",
    "        comments_quotes[int(k)] = comments_dict[k].find(\"blockquote\")\n",
    "        comments_no_quote_dict[int(k)] = comments_dict[k].find(\"blockquote\").replaceWith('').text.strip()"
   ]
  },
  {
   "cell_type": "code",
   "execution_count": 9,
   "metadata": {
    "collapsed": false
   },
   "outputs": [
    {
     "data": {
      "text/html": [
       "<div>\n",
       "<style>\n",
       "    .dataframe thead tr:only-child th {\n",
       "        text-align: right;\n",
       "    }\n",
       "\n",
       "    .dataframe thead th {\n",
       "        text-align: left;\n",
       "    }\n",
       "\n",
       "    .dataframe tbody tr th {\n",
       "        vertical-align: top;\n",
       "    }\n",
       "</style>\n",
       "<table border=\"1\" class=\"dataframe\">\n",
       "  <thead>\n",
       "    <tr style=\"text-align: right;\">\n",
       "      <th></th>\n",
       "      <th>0</th>\n",
       "    </tr>\n",
       "  </thead>\n",
       "  <tbody>\n",
       "    <tr>\n",
       "      <th>1</th>\n",
       "      <td>Miu is like a walking personality complex and ...</td>\n",
       "    </tr>\n",
       "    <tr>\n",
       "      <th>2</th>\n",
       "      <td>Maki Harukawa. Nobody can convince me otherwise!</td>\n",
       "    </tr>\n",
       "    <tr>\n",
       "      <th>3</th>\n",
       "      <td>Not only my favorite of this game, but now bet...</td>\n",
       "    </tr>\n",
       "  </tbody>\n",
       "</table>\n",
       "</div>"
      ],
      "text/plain": [
       "                                                   0\n",
       "1  Miu is like a walking personality complex and ...\n",
       "2   Maki Harukawa. Nobody can convince me otherwise!\n",
       "3  Not only my favorite of this game, but now bet..."
      ]
     },
     "execution_count": 9,
     "metadata": {},
     "output_type": "execute_result"
    }
   ],
   "source": [
    "comments_df = pd.DataFrame.from_dict(comments_no_quote_dict,orient=\"index\").sort_index()\n",
    "comments_df[:3]"
   ]
  },
  {
   "cell_type": "code",
   "execution_count": 10,
   "metadata": {
    "collapsed": false
   },
   "outputs": [
    {
     "data": {
      "text/html": [
       "<div>\n",
       "<style>\n",
       "    .dataframe thead tr:only-child th {\n",
       "        text-align: right;\n",
       "    }\n",
       "\n",
       "    .dataframe thead th {\n",
       "        text-align: left;\n",
       "    }\n",
       "\n",
       "    .dataframe tbody tr th {\n",
       "        vertical-align: top;\n",
       "    }\n",
       "</style>\n",
       "<table border=\"1\" class=\"dataframe\">\n",
       "  <thead>\n",
       "    <tr style=\"text-align: right;\">\n",
       "      <th></th>\n",
       "      <th>0</th>\n",
       "    </tr>\n",
       "  </thead>\n",
       "  <tbody>\n",
       "    <tr>\n",
       "      <th>9</th>\n",
       "      <td>&lt;blockquote class=\"bb_blockquote with_author\"&gt;...</td>\n",
       "    </tr>\n",
       "    <tr>\n",
       "      <th>14</th>\n",
       "      <td>&lt;blockquote class=\"bb_blockquote with_author\"&gt;...</td>\n",
       "    </tr>\n",
       "    <tr>\n",
       "      <th>27</th>\n",
       "      <td>&lt;blockquote class=\"bb_blockquote with_author\"&gt;...</td>\n",
       "    </tr>\n",
       "  </tbody>\n",
       "</table>\n",
       "</div>"
      ],
      "text/plain": [
       "                                                    0\n",
       "9   <blockquote class=\"bb_blockquote with_author\">...\n",
       "14  <blockquote class=\"bb_blockquote with_author\">...\n",
       "27  <blockquote class=\"bb_blockquote with_author\">..."
      ]
     },
     "execution_count": 10,
     "metadata": {},
     "output_type": "execute_result"
    }
   ],
   "source": [
    "quotes_df = pd.DataFrame.from_dict(comments_quotes,orient=\"index\").sort_index()\n",
    "quotes_df[:3]"
   ]
  },
  {
   "cell_type": "code",
   "execution_count": 11,
   "metadata": {
    "collapsed": false
   },
   "outputs": [
    {
     "name": "stdout",
     "output_type": "stream",
     "text": [
      "0\n",
      "0\n"
     ]
    }
   ],
   "source": [
    "# check if it's safe to use pie as delimiter\n",
    "print(sum(quotes_df[0].map(lambda x: re.search(\"|\",str(x)) is None)))\n",
    "print(sum(comments_df[0].map(lambda x: re.search(\"|\",str(x)) is None)))"
   ]
  },
  {
   "cell_type": "code",
   "execution_count": 12,
   "metadata": {
    "collapsed": false
   },
   "outputs": [],
   "source": [
    "# Write the clean comments to file\n",
    "comments_df.to_csv(\"../data/clean_comments.txt\",sep=\"|\")\n",
    "quotes_df.to_csv(\"../data/quotes.txt\",sep=\"|\")"
   ]
  },
  {
   "cell_type": "code",
   "execution_count": null,
   "metadata": {
    "collapsed": true
   },
   "outputs": [],
   "source": []
  }
 ],
 "metadata": {
  "kernelspec": {
   "display_name": "Python [Root]",
   "language": "python",
   "name": "Python [Root]"
  },
  "language_info": {
   "codemirror_mode": {
    "name": "ipython",
    "version": 3
   },
   "file_extension": ".py",
   "mimetype": "text/x-python",
   "name": "python",
   "nbconvert_exporter": "python",
   "pygments_lexer": "ipython3",
   "version": "3.5.2"
  }
 },
 "nbformat": 4,
 "nbformat_minor": 0
}
