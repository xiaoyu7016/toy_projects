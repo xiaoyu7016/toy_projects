{
 "cells": [
  {
   "cell_type": "markdown",
   "metadata": {},
   "source": [
    "#### Understand the lifestyle of remote workers (v non-remote workers)\n",
    "- When, where and for how long do they work?\n",
    "- Typical occupations/industries?\n",
    "- Demographics? (State? Age? Gender? Salary? Edu? Married? Kids?)\n",
    "- How do they spend their time?\n",
    "\n",
    "As a consultant, I also want to help my husband who is about to become a remote worker how to manage working hours better (i.e. not work too long) - probably run a correlation analysis, or linear reg?\n",
    "\n",
    "Deliverable: animated visualization over time?"
   ]
  },
  {
   "cell_type": "code",
   "execution_count": 67,
   "metadata": {},
   "outputs": [],
   "source": [
    "import os\n",
    "import re\n",
    "import pandas as pd\n",
    "import numpy as np\n",
    "%matplotlib inline"
   ]
  },
  {
   "cell_type": "markdown",
   "metadata": {},
   "source": [
    "#### 0.1 Figure out people who have a full-time job"
   ]
  },
  {
   "cell_type": "code",
   "execution_count": 6,
   "metadata": {},
   "outputs": [
    {
     "data": {
      "text/plain": [
       "(108151, 132)"
      ]
     },
     "execution_count": 6,
     "metadata": {},
     "output_type": "execute_result"
    }
   ],
   "source": [
    "summ = pd.read_csv(r\"../data/converted/summary_4d.csv\")\n",
    "ft = summ[summ['TELFS']==1] # 1 for full-time\n",
    "del summ\n",
    "ft.shape"
   ]
  },
  {
   "cell_type": "code",
   "execution_count": 8,
   "metadata": {},
   "outputs": [
    {
     "data": {
      "text/html": [
       "<div>\n",
       "<style scoped>\n",
       "    .dataframe tbody tr th:only-of-type {\n",
       "        vertical-align: middle;\n",
       "    }\n",
       "\n",
       "    .dataframe tbody tr th {\n",
       "        vertical-align: top;\n",
       "    }\n",
       "\n",
       "    .dataframe thead th {\n",
       "        text-align: right;\n",
       "    }\n",
       "</style>\n",
       "<table border=\"1\" class=\"dataframe\">\n",
       "  <thead>\n",
       "    <tr style=\"text-align: right;\">\n",
       "      <th></th>\n",
       "      <th>TUCASEID</th>\n",
       "      <th>GEMETSTA</th>\n",
       "      <th>GTMETSTA</th>\n",
       "      <th>PEEDUCA</th>\n",
       "      <th>PEHSPNON</th>\n",
       "      <th>PTDTRACE</th>\n",
       "      <th>TEAGE</th>\n",
       "      <th>TELFS</th>\n",
       "      <th>TEMJOT</th>\n",
       "      <th>TESCHENR</th>\n",
       "      <th>...</th>\n",
       "      <th>t1811</th>\n",
       "      <th>t1812</th>\n",
       "      <th>t1813</th>\n",
       "      <th>t1814</th>\n",
       "      <th>t1815</th>\n",
       "      <th>t1816</th>\n",
       "      <th>t1818</th>\n",
       "      <th>t1899</th>\n",
       "      <th>t5001</th>\n",
       "      <th>t5099</th>\n",
       "    </tr>\n",
       "  </thead>\n",
       "  <tbody>\n",
       "    <tr>\n",
       "      <th>1</th>\n",
       "      <td>20030100013344</td>\n",
       "      <td>2</td>\n",
       "      <td>-1</td>\n",
       "      <td>40</td>\n",
       "      <td>2</td>\n",
       "      <td>1</td>\n",
       "      <td>41</td>\n",
       "      <td>1</td>\n",
       "      <td>2</td>\n",
       "      <td>2</td>\n",
       "      <td>...</td>\n",
       "      <td>0</td>\n",
       "      <td>20</td>\n",
       "      <td>0</td>\n",
       "      <td>0</td>\n",
       "      <td>0</td>\n",
       "      <td>0</td>\n",
       "      <td>0</td>\n",
       "      <td>0</td>\n",
       "      <td>0</td>\n",
       "      <td>0</td>\n",
       "    </tr>\n",
       "    <tr>\n",
       "      <th>4</th>\n",
       "      <td>20030100014165</td>\n",
       "      <td>2</td>\n",
       "      <td>-1</td>\n",
       "      <td>45</td>\n",
       "      <td>2</td>\n",
       "      <td>1</td>\n",
       "      <td>51</td>\n",
       "      <td>1</td>\n",
       "      <td>2</td>\n",
       "      <td>-1</td>\n",
       "      <td>...</td>\n",
       "      <td>0</td>\n",
       "      <td>0</td>\n",
       "      <td>10</td>\n",
       "      <td>0</td>\n",
       "      <td>0</td>\n",
       "      <td>0</td>\n",
       "      <td>0</td>\n",
       "      <td>0</td>\n",
       "      <td>0</td>\n",
       "      <td>0</td>\n",
       "    </tr>\n",
       "    <tr>\n",
       "      <th>6</th>\n",
       "      <td>20030100014209</td>\n",
       "      <td>1</td>\n",
       "      <td>-1</td>\n",
       "      <td>39</td>\n",
       "      <td>2</td>\n",
       "      <td>1</td>\n",
       "      <td>44</td>\n",
       "      <td>1</td>\n",
       "      <td>2</td>\n",
       "      <td>2</td>\n",
       "      <td>...</td>\n",
       "      <td>12</td>\n",
       "      <td>0</td>\n",
       "      <td>0</td>\n",
       "      <td>0</td>\n",
       "      <td>0</td>\n",
       "      <td>0</td>\n",
       "      <td>0</td>\n",
       "      <td>0</td>\n",
       "      <td>0</td>\n",
       "      <td>0</td>\n",
       "    </tr>\n",
       "  </tbody>\n",
       "</table>\n",
       "<p>3 rows × 132 columns</p>\n",
       "</div>"
      ],
      "text/plain": [
       "         TUCASEID  GEMETSTA  GTMETSTA  PEEDUCA  PEHSPNON  PTDTRACE  TEAGE  \\\n",
       "1  20030100013344         2        -1       40         2         1     41   \n",
       "4  20030100014165         2        -1       45         2         1     51   \n",
       "6  20030100014209         1        -1       39         2         1     44   \n",
       "\n",
       "   TELFS  TEMJOT  TESCHENR  ...    t1811  t1812  t1813  t1814  t1815  t1816  \\\n",
       "1      1       2         2  ...        0     20      0      0      0      0   \n",
       "4      1       2        -1  ...        0      0     10      0      0      0   \n",
       "6      1       2         2  ...       12      0      0      0      0      0   \n",
       "\n",
       "   t1818  t1899  t5001  t5099  \n",
       "1      0      0      0      0  \n",
       "4      0      0      0      0  \n",
       "6      0      0      0      0  \n",
       "\n",
       "[3 rows x 132 columns]"
      ]
     },
     "execution_count": 8,
     "metadata": {},
     "output_type": "execute_result"
    }
   ],
   "source": [
    "ft[:3]"
   ]
  },
  {
   "cell_type": "code",
   "execution_count": 41,
   "metadata": {},
   "outputs": [],
   "source": [
    "dt = pd.read_csv(r\"../data/converted/resp.csv\")"
   ]
  },
  {
   "cell_type": "code",
   "execution_count": 24,
   "metadata": {},
   "outputs": [
    {
     "data": {
      "text/plain": [
       "(108151, 24)"
      ]
     },
     "execution_count": 24,
     "metadata": {},
     "output_type": "execute_result"
    }
   ],
   "source": [
    "ft_dt = pd.merge(ft[['TUCASEID','TELFS']],dt,how='left')\n",
    "# del dt\n",
    "ft_dt.shape"
   ]
  },
  {
   "cell_type": "code",
   "execution_count": null,
   "metadata": {},
   "outputs": [],
   "source": []
  },
  {
   "cell_type": "code",
   "execution_count": 39,
   "metadata": {},
   "outputs": [],
   "source": [
    "act = pd.read_csv(r\"../data/converted/act.csv\")"
   ]
  },
  {
   "cell_type": "code",
   "execution_count": 44,
   "metadata": {},
   "outputs": [
    {
     "data": {
      "text/plain": [
       "(2133739, 9)"
      ]
     },
     "execution_count": 44,
     "metadata": {},
     "output_type": "execute_result"
    }
   ],
   "source": [
    "ft_act = pd.merge(ft_dt[['TUCASEID','TUDIARYDATE','TUDIARYDAY','TRHOLIDAY']],act,how='left')\n",
    "del act\n",
    "ft_act.shape"
   ]
  },
  {
   "cell_type": "markdown",
   "metadata": {},
   "source": [
    "#### 0.2 Separate remote & non-remote workers"
   ]
  },
  {
   "cell_type": "code",
   "execution_count": 45,
   "metadata": {},
   "outputs": [
    {
     "data": {
      "text/html": [
       "<div>\n",
       "<style scoped>\n",
       "    .dataframe tbody tr th:only-of-type {\n",
       "        vertical-align: middle;\n",
       "    }\n",
       "\n",
       "    .dataframe tbody tr th {\n",
       "        vertical-align: top;\n",
       "    }\n",
       "\n",
       "    .dataframe thead th {\n",
       "        text-align: right;\n",
       "    }\n",
       "</style>\n",
       "<table border=\"1\" class=\"dataframe\">\n",
       "  <thead>\n",
       "    <tr style=\"text-align: right;\">\n",
       "      <th></th>\n",
       "      <th>TUCASEID</th>\n",
       "      <th>TUDIARYDATE</th>\n",
       "      <th>TUDIARYDAY</th>\n",
       "      <th>TRHOLIDAY</th>\n",
       "      <th>TUACTIVITY_N</th>\n",
       "      <th>TUACTDUR24</th>\n",
       "      <th>TUSTARTTIM</th>\n",
       "      <th>TRTIER2P</th>\n",
       "      <th>TEWHERE</th>\n",
       "    </tr>\n",
       "  </thead>\n",
       "  <tbody>\n",
       "    <tr>\n",
       "      <th>0</th>\n",
       "      <td>20030100013344</td>\n",
       "      <td>2003-01-04</td>\n",
       "      <td>7</td>\n",
       "      <td>0</td>\n",
       "      <td>1</td>\n",
       "      <td>180</td>\n",
       "      <td>04:00:00</td>\n",
       "      <td>0101</td>\n",
       "      <td>-1</td>\n",
       "    </tr>\n",
       "    <tr>\n",
       "      <th>1</th>\n",
       "      <td>20030100013344</td>\n",
       "      <td>2003-01-04</td>\n",
       "      <td>7</td>\n",
       "      <td>0</td>\n",
       "      <td>2</td>\n",
       "      <td>60</td>\n",
       "      <td>07:00:00</td>\n",
       "      <td>1101</td>\n",
       "      <td>1</td>\n",
       "    </tr>\n",
       "    <tr>\n",
       "      <th>2</th>\n",
       "      <td>20030100013344</td>\n",
       "      <td>2003-01-04</td>\n",
       "      <td>7</td>\n",
       "      <td>0</td>\n",
       "      <td>3</td>\n",
       "      <td>60</td>\n",
       "      <td>08:00:00</td>\n",
       "      <td>0102</td>\n",
       "      <td>-1</td>\n",
       "    </tr>\n",
       "  </tbody>\n",
       "</table>\n",
       "</div>"
      ],
      "text/plain": [
       "         TUCASEID TUDIARYDATE  TUDIARYDAY  TRHOLIDAY  TUACTIVITY_N  \\\n",
       "0  20030100013344  2003-01-04           7          0             1   \n",
       "1  20030100013344  2003-01-04           7          0             2   \n",
       "2  20030100013344  2003-01-04           7          0             3   \n",
       "\n",
       "   TUACTDUR24 TUSTARTTIM TRTIER2P  TEWHERE  \n",
       "0         180   04:00:00     0101       -1  \n",
       "1          60   07:00:00     1101        1  \n",
       "2          60   08:00:00     0102       -1  "
      ]
     },
     "execution_count": 45,
     "metadata": {},
     "output_type": "execute_result"
    }
   ],
   "source": [
    "ft_act['TRTIER2P'] = ft_act['TRTIER2P'].astype(str).str.zfill(4)\n",
    "ft_act['TUDIARYDATE'] = pd.to_datetime(ft_act['TUDIARYDATE'],format='%Y%m%d')\n",
    "ft_act[:3]\n",
    "# week: Sun -- Sat(7)"
   ]
  },
  {
   "cell_type": "code",
   "execution_count": 46,
   "metadata": {},
   "outputs": [
    {
     "data": {
      "text/plain": [
       "7    514372\n",
       "1    510212\n",
       "2    225438\n",
       "4    224004\n",
       "3    222174\n",
       "5    218870\n",
       "6    218669\n",
       "Name: TUDIARYDAY, dtype: int64"
      ]
     },
     "execution_count": 46,
     "metadata": {},
     "output_type": "execute_result"
    }
   ],
   "source": [
    "ft_act['TUDIARYDAY'].value_counts()"
   ]
  },
  {
   "cell_type": "code",
   "execution_count": 78,
   "metadata": {},
   "outputs": [
    {
     "data": {
      "text/html": [
       "<div>\n",
       "<style scoped>\n",
       "    .dataframe tbody tr th:only-of-type {\n",
       "        vertical-align: middle;\n",
       "    }\n",
       "\n",
       "    .dataframe tbody tr th {\n",
       "        vertical-align: top;\n",
       "    }\n",
       "\n",
       "    .dataframe thead th {\n",
       "        text-align: right;\n",
       "    }\n",
       "</style>\n",
       "<table border=\"1\" class=\"dataframe\">\n",
       "  <thead>\n",
       "    <tr style=\"text-align: right;\">\n",
       "      <th></th>\n",
       "      <th>TUDIARYDATE</th>\n",
       "    </tr>\n",
       "  </thead>\n",
       "  <tbody>\n",
       "    <tr>\n",
       "      <th>count</th>\n",
       "      <td>108151.0</td>\n",
       "    </tr>\n",
       "    <tr>\n",
       "      <th>mean</th>\n",
       "      <td>1.0</td>\n",
       "    </tr>\n",
       "    <tr>\n",
       "      <th>std</th>\n",
       "      <td>0.0</td>\n",
       "    </tr>\n",
       "    <tr>\n",
       "      <th>min</th>\n",
       "      <td>1.0</td>\n",
       "    </tr>\n",
       "    <tr>\n",
       "      <th>25%</th>\n",
       "      <td>1.0</td>\n",
       "    </tr>\n",
       "    <tr>\n",
       "      <th>50%</th>\n",
       "      <td>1.0</td>\n",
       "    </tr>\n",
       "    <tr>\n",
       "      <th>75%</th>\n",
       "      <td>1.0</td>\n",
       "    </tr>\n",
       "    <tr>\n",
       "      <th>max</th>\n",
       "      <td>1.0</td>\n",
       "    </tr>\n",
       "  </tbody>\n",
       "</table>\n",
       "</div>"
      ],
      "text/plain": [
       "       TUDIARYDATE\n",
       "count     108151.0\n",
       "mean           1.0\n",
       "std            0.0\n",
       "min            1.0\n",
       "25%            1.0\n",
       "50%            1.0\n",
       "75%            1.0\n",
       "max            1.0"
      ]
     },
     "execution_count": 78,
     "metadata": {},
     "output_type": "execute_result"
    }
   ],
   "source": [
    "ft_act.groupby('TUCASEID').agg({'TUDIARYDATE': lambda x: x.nunique()}).describe() # so one diary is taken per repondent"
   ]
  },
  {
   "cell_type": "code",
   "execution_count": 79,
   "metadata": {
    "scrolled": false
   },
   "outputs": [
    {
     "name": "stderr",
     "output_type": "stream",
     "text": [
      "C:\\Anaconda3\\lib\\site-packages\\ipykernel\\__main__.py:3: SettingWithCopyWarning: \n",
      "A value is trying to be set on a copy of a slice from a DataFrame.\n",
      "Try using .loc[row_indexer,col_indexer] = value instead\n",
      "\n",
      "See the caveats in the documentation: http://pandas.pydata.org/pandas-docs/stable/indexing.html#indexing-view-versus-copy\n",
      "  app.launch_new_instance()\n"
     ]
    },
    {
     "data": {
      "text/html": [
       "<div>\n",
       "<style scoped>\n",
       "    .dataframe tbody tr th:only-of-type {\n",
       "        vertical-align: middle;\n",
       "    }\n",
       "\n",
       "    .dataframe tbody tr th {\n",
       "        vertical-align: top;\n",
       "    }\n",
       "\n",
       "    .dataframe thead th {\n",
       "        text-align: right;\n",
       "    }\n",
       "</style>\n",
       "<table border=\"1\" class=\"dataframe\">\n",
       "  <thead>\n",
       "    <tr style=\"text-align: right;\">\n",
       "      <th></th>\n",
       "      <th>TUCASEID</th>\n",
       "      <th>TUDIARYDATE</th>\n",
       "      <th>TUDIARYDAY</th>\n",
       "      <th>TRHOLIDAY</th>\n",
       "      <th>TUACTIVITY_N</th>\n",
       "      <th>TUACTDUR24</th>\n",
       "      <th>TUSTARTTIM</th>\n",
       "      <th>TRTIER2P</th>\n",
       "      <th>TEWHERE</th>\n",
       "      <th>Remote</th>\n",
       "    </tr>\n",
       "  </thead>\n",
       "  <tbody>\n",
       "    <tr>\n",
       "      <th>13</th>\n",
       "      <td>20030100014165</td>\n",
       "      <td>2003-01-09</td>\n",
       "      <td>5</td>\n",
       "      <td>0</td>\n",
       "      <td>4</td>\n",
       "      <td>435</td>\n",
       "      <td>05:45:00</td>\n",
       "      <td>0501</td>\n",
       "      <td>2</td>\n",
       "      <td>0</td>\n",
       "    </tr>\n",
       "    <tr>\n",
       "      <th>32</th>\n",
       "      <td>20030100014165</td>\n",
       "      <td>2003-01-09</td>\n",
       "      <td>5</td>\n",
       "      <td>0</td>\n",
       "      <td>23</td>\n",
       "      <td>60</td>\n",
       "      <td>21:15:00</td>\n",
       "      <td>0501</td>\n",
       "      <td>1</td>\n",
       "      <td>1</td>\n",
       "    </tr>\n",
       "    <tr>\n",
       "      <th>34</th>\n",
       "      <td>20030100014165</td>\n",
       "      <td>2003-01-09</td>\n",
       "      <td>5</td>\n",
       "      <td>0</td>\n",
       "      <td>25</td>\n",
       "      <td>5</td>\n",
       "      <td>22:30:00</td>\n",
       "      <td>0501</td>\n",
       "      <td>1</td>\n",
       "      <td>1</td>\n",
       "    </tr>\n",
       "  </tbody>\n",
       "</table>\n",
       "</div>"
      ],
      "text/plain": [
       "          TUCASEID TUDIARYDATE  TUDIARYDAY  TRHOLIDAY  TUACTIVITY_N  \\\n",
       "13  20030100014165  2003-01-09           5          0             4   \n",
       "32  20030100014165  2003-01-09           5          0            23   \n",
       "34  20030100014165  2003-01-09           5          0            25   \n",
       "\n",
       "    TUACTDUR24 TUSTARTTIM TRTIER2P  TEWHERE  Remote  \n",
       "13         435   05:45:00     0501        2       0  \n",
       "32          60   21:15:00     0501        1       1  \n",
       "34           5   22:30:00     0501        1       1  "
      ]
     },
     "execution_count": 79,
     "metadata": {},
     "output_type": "execute_result"
    }
   ],
   "source": [
    "# will only focus on people who work on work days\n",
    "work = ft_act[(ft_act['TRTIER2P']=='0501') & (ft_act['TRHOLIDAY']==0) & (ft_act['TUDIARYDAY']!=1) & (ft_act['TUDIARYDAY']!=7)]\n",
    "work['Remote'] = (work['TEWHERE']!=2).astype(int)\n",
    "work[:3]"
   ]
  },
  {
   "cell_type": "code",
   "execution_count": 71,
   "metadata": {},
   "outputs": [
    {
     "data": {
      "text/plain": [
       "<matplotlib.axes._subplots.AxesSubplot at 0x513f35f8>"
      ]
     },
     "execution_count": 71,
     "metadata": {},
     "output_type": "execute_result"
    },
    {
     "data": {
      "image/png": "[encoded data removed]",
      "text/plain": [
       "<matplotlib.figure.Figure at 0x513f3320>"
      ]
     },
     "metadata": {},
     "output_type": "display_data"
    }
   ],
   "source": [
    "remote = work.groupby(['TUCASEID','TUDIARYDATE','Remote'])['TUACTDUR24'].sum().unstack(level=-1).reset_index()\n",
    "remote[[0,1]]=remote[[0,1]].fillna(0)\n",
    "remote['%rmt'] = remote[1]/(remote[0]+remote[1])\n",
    "remote['%rmt'].hist(bins=20) # Define remote worker as remote >= 95%"
   ]
  },
  {
   "cell_type": "code",
   "execution_count": 72,
   "metadata": {},
   "outputs": [
    {
     "data": {
      "text/plain": [
       "0    40446\n",
       "1     5242\n",
       "Name: remote, dtype: int64"
      ]
     },
     "execution_count": 72,
     "metadata": {},
     "output_type": "execute_result"
    }
   ],
   "source": [
    "remote['remote'] = (remote['%rmt']>=0.95).astype(int)\n",
    "remote['remote'].value_counts()"
   ]
  },
  {
   "cell_type": "code",
   "execution_count": 81,
   "metadata": {},
   "outputs": [
    {
     "data": {
      "text/html": [
       "<div>\n",
       "<style scoped>\n",
       "    .dataframe tbody tr th:only-of-type {\n",
       "        vertical-align: middle;\n",
       "    }\n",
       "\n",
       "    .dataframe tbody tr th {\n",
       "        vertical-align: top;\n",
       "    }\n",
       "\n",
       "    .dataframe thead th {\n",
       "        text-align: right;\n",
       "    }\n",
       "</style>\n",
       "<table border=\"1\" class=\"dataframe\">\n",
       "  <thead>\n",
       "    <tr style=\"text-align: right;\">\n",
       "      <th>Remote</th>\n",
       "      <th>TUCASEID</th>\n",
       "      <th>TUDIARYDATE</th>\n",
       "      <th>0</th>\n",
       "      <th>1</th>\n",
       "      <th>%rmt</th>\n",
       "      <th>remote</th>\n",
       "    </tr>\n",
       "  </thead>\n",
       "  <tbody>\n",
       "    <tr>\n",
       "      <th>0</th>\n",
       "      <td>20030100014165</td>\n",
       "      <td>2003-01-09</td>\n",
       "      <td>435.0</td>\n",
       "      <td>65.0</td>\n",
       "      <td>0.13</td>\n",
       "      <td>0</td>\n",
       "    </tr>\n",
       "    <tr>\n",
       "      <th>1</th>\n",
       "      <td>20030100014209</td>\n",
       "      <td>2003-01-06</td>\n",
       "      <td>0.0</td>\n",
       "      <td>514.0</td>\n",
       "      <td>1.00</td>\n",
       "      <td>1</td>\n",
       "    </tr>\n",
       "  </tbody>\n",
       "</table>\n",
       "</div>"
      ],
      "text/plain": [
       "Remote        TUCASEID TUDIARYDATE      0      1  %rmt  remote\n",
       "0       20030100014165  2003-01-09  435.0   65.0  0.13       0\n",
       "1       20030100014209  2003-01-06    0.0  514.0  1.00       1"
      ]
     },
     "execution_count": 81,
     "metadata": {},
     "output_type": "execute_result"
    }
   ],
   "source": [
    "remote[:2]"
   ]
  },
  {
   "cell_type": "code",
   "execution_count": 86,
   "metadata": {},
   "outputs": [
    {
     "name": "stdout",
     "output_type": "stream",
     "text": [
      "(115545, 11)\n"
     ]
    },
    {
     "data": {
      "text/html": [
       "<div>\n",
       "<style scoped>\n",
       "    .dataframe tbody tr th:only-of-type {\n",
       "        vertical-align: middle;\n",
       "    }\n",
       "\n",
       "    .dataframe tbody tr th {\n",
       "        vertical-align: top;\n",
       "    }\n",
       "\n",
       "    .dataframe thead th {\n",
       "        text-align: right;\n",
       "    }\n",
       "</style>\n",
       "<table border=\"1\" class=\"dataframe\">\n",
       "  <thead>\n",
       "    <tr style=\"text-align: right;\">\n",
       "      <th></th>\n",
       "      <th>TUCASEID</th>\n",
       "      <th>remote</th>\n",
       "      <th>TUDIARYDATE</th>\n",
       "      <th>TUDIARYDAY</th>\n",
       "      <th>TRHOLIDAY</th>\n",
       "      <th>TUACTIVITY_N</th>\n",
       "      <th>TUACTDUR24</th>\n",
       "      <th>TUSTARTTIM</th>\n",
       "      <th>TRTIER2P</th>\n",
       "      <th>TEWHERE</th>\n",
       "    </tr>\n",
       "  </thead>\n",
       "  <tbody>\n",
       "    <tr>\n",
       "      <th>0</th>\n",
       "      <td>20030100014165</td>\n",
       "      <td>0</td>\n",
       "      <td>2003-01-09</td>\n",
       "      <td>5</td>\n",
       "      <td>0</td>\n",
       "      <td>4</td>\n",
       "      <td>435</td>\n",
       "      <td>05:45:00</td>\n",
       "      <td>0501</td>\n",
       "      <td>2</td>\n",
       "    </tr>\n",
       "    <tr>\n",
       "      <th>1</th>\n",
       "      <td>20030100014165</td>\n",
       "      <td>0</td>\n",
       "      <td>2003-01-09</td>\n",
       "      <td>5</td>\n",
       "      <td>0</td>\n",
       "      <td>23</td>\n",
       "      <td>60</td>\n",
       "      <td>21:15:00</td>\n",
       "      <td>0501</td>\n",
       "      <td>1</td>\n",
       "    </tr>\n",
       "    <tr>\n",
       "      <th>2</th>\n",
       "      <td>20030100014165</td>\n",
       "      <td>0</td>\n",
       "      <td>2003-01-09</td>\n",
       "      <td>5</td>\n",
       "      <td>0</td>\n",
       "      <td>25</td>\n",
       "      <td>5</td>\n",
       "      <td>22:30:00</td>\n",
       "      <td>0501</td>\n",
       "      <td>1</td>\n",
       "    </tr>\n",
       "  </tbody>\n",
       "</table>\n",
       "</div>"
      ],
      "text/plain": [
       "         TUCASEID  remote TUDIARYDATE  TUDIARYDAY  TRHOLIDAY  TUACTIVITY_N  \\\n",
       "0  20030100014165       0  2003-01-09           5          0             4   \n",
       "1  20030100014165       0  2003-01-09           5          0            23   \n",
       "2  20030100014165       0  2003-01-09           5          0            25   \n",
       "\n",
       "   TUACTDUR24 TUSTARTTIM TRTIER2P  TEWHERE  \n",
       "0         435   05:45:00     0501        2  \n",
       "1          60   21:15:00     0501        1  \n",
       "2           5   22:30:00     0501        1  "
      ]
     },
     "execution_count": 86,
     "metadata": {},
     "output_type": "execute_result"
    }
   ],
   "source": [
    "work_rmt = pd.merge(remote[['TUCASEID','remote']], work, how='left')\n",
    "print(work_rmt.shape)\n",
    "work_rmt.drop('Remote',axis=1,inplace=True)\n",
    "work_rmt[:3]"
   ]
  },
  {
   "cell_type": "markdown",
   "metadata": {},
   "source": [
    "#### 1. When, where, and how long do they work?"
   ]
  },
  {
   "cell_type": "code",
   "execution_count": 89,
   "metadata": {},
   "outputs": [
    {
     "data": {
      "text/plain": [
       "<matplotlib.axes._subplots.AxesSubplot at 0x513946d8>"
      ]
     },
     "execution_count": 89,
     "metadata": {},
     "output_type": "execute_result"
    },
    {
     "data": {
      "image/png": "[encoded data removed]",
      "text/plain": [
       "<matplotlib.figure.Figure at 0x51394da0>"
      ]
     },
     "metadata": {},
     "output_type": "display_data"
    }
   ],
   "source": [
    "work_rmt[work_rmt['remote']==1]['TEWHERE'].value_counts().plot(kind='bar')"
   ]
  },
  {
   "cell_type": "code",
   "execution_count": 107,
   "metadata": {
    "scrolled": true
   },
   "outputs": [],
   "source": [
    "rmt_summ = work_rmt.groupby('TUCASEID')\\\n",
    "    .agg({'remote': lambda x: x.iloc[0],\n",
    "          'TUDIARYDATE': lambda x: x.iloc[0].year,\n",
    "          'TUACTIVITY_N':lambda x: len(x),\n",
    "          'TEWHERE': lambda x: x.nunique(),\n",
    "          'TUACTDUR24':np.sum})\\\n",
    "    .rename(columns={'remote':'Remote','TUDIARYDATE':'Year','TUACTIVITY_N':'Entries','TEWHERE':'Places','TUACTDUR24':'Minutes'})\\\n",
    "    .reset_index()\n",
    "#     .unstack(level=0)"
   ]
  },
  {
   "cell_type": "code",
   "execution_count": 111,
   "metadata": {},
   "outputs": [
    {
     "data": {
      "text/html": [
       "<div>\n",
       "<style scoped>\n",
       "    .dataframe tbody tr th:only-of-type {\n",
       "        vertical-align: middle;\n",
       "    }\n",
       "\n",
       "    .dataframe tbody tr th {\n",
       "        vertical-align: top;\n",
       "    }\n",
       "\n",
       "    .dataframe thead th {\n",
       "        text-align: right;\n",
       "    }\n",
       "</style>\n",
       "<table border=\"1\" class=\"dataframe\">\n",
       "  <thead>\n",
       "    <tr style=\"text-align: right;\">\n",
       "      <th></th>\n",
       "      <th>TUCASEID</th>\n",
       "      <th>Entries</th>\n",
       "      <th>Minutes</th>\n",
       "      <th>Year</th>\n",
       "      <th>Places</th>\n",
       "    </tr>\n",
       "    <tr>\n",
       "      <th>Remote</th>\n",
       "      <th></th>\n",
       "      <th></th>\n",
       "      <th></th>\n",
       "      <th></th>\n",
       "      <th></th>\n",
       "    </tr>\n",
       "  </thead>\n",
       "  <tbody>\n",
       "    <tr>\n",
       "      <th>0</th>\n",
       "      <td>2.008908e+13</td>\n",
       "      <td>2.534960</td>\n",
       "      <td>496.266874</td>\n",
       "      <td>2008.844410</td>\n",
       "      <td>1.184592</td>\n",
       "    </tr>\n",
       "    <tr>\n",
       "      <th>1</th>\n",
       "      <td>2.009458e+13</td>\n",
       "      <td>2.483022</td>\n",
       "      <td>346.828119</td>\n",
       "      <td>2009.394124</td>\n",
       "      <td>1.199542</td>\n",
       "    </tr>\n",
       "  </tbody>\n",
       "</table>\n",
       "</div>"
      ],
      "text/plain": [
       "            TUCASEID   Entries     Minutes         Year    Places\n",
       "Remote                                                           \n",
       "0       2.008908e+13  2.534960  496.266874  2008.844410  1.184592\n",
       "1       2.009458e+13  2.483022  346.828119  2009.394124  1.199542"
      ]
     },
     "execution_count": 111,
     "metadata": {},
     "output_type": "execute_result"
    }
   ],
   "source": [
    "rmt_summ.groupby('Remote').mean()"
   ]
  },
  {
   "cell_type": "code",
   "execution_count": null,
   "metadata": {},
   "outputs": [],
   "source": []
  }
 ],
 "metadata": {
  "kernelspec": {
   "display_name": "Python [conda root]",
   "language": "python",
   "name": "conda-root-py"
  },
  "language_info": {
   "codemirror_mode": {
    "name": "ipython",
    "version": 3
   },
   "file_extension": ".py",
   "mimetype": "text/x-python",
   "name": "python",
   "nbconvert_exporter": "python",
   "pygments_lexer": "ipython3",
   "version": "3.5.4"
  },
  "varInspector": {
   "cols": {
    "lenName": 16,
    "lenType": 16,
    "lenVar": 40
   },
   "kernels_config": {
    "python": {
     "delete_cmd_postfix": "",
     "delete_cmd_prefix": "del ",
     "library": "var_list.py",
     "varRefreshCmd": "print(var_dic_list())"
    },
    "r": {
     "delete_cmd_postfix": ") ",
     "delete_cmd_prefix": "rm(",
     "library": "var_list.r",
     "varRefreshCmd": "cat(var_dic_list()) "
    }
   },
   "oldHeight": 122.4,
   "position": {
    "height": "144px",
    "left": "659px",
    "right": "20px",
    "top": "112px",
    "width": "350px"
   },
   "types_to_exclude": [
    "module",
    "function",
    "builtin_function_or_method",
    "instance",
    "_Feature"
   ],
   "varInspector_section_display": "block",
   "window_display": true
  }
 },
 "nbformat": 4,
 "nbformat_minor": 2
}
